{
 "cells": [
  {
   "cell_type": "code",
   "execution_count": 1,
   "id": "ceb9fe95",
   "metadata": {},
   "outputs": [],
   "source": [
    "import pandas as pd\n",
    "import matplotlib.pyplot as plt\n",
    "import numpy as np\n",
    "import seaborn as sns\n",
    "%matplotlib inline\n",
    "import math"
   ]
  },
  {
   "cell_type": "code",
   "execution_count": 2,
   "id": "0b90b606",
   "metadata": {},
   "outputs": [],
   "source": [
    "df = pd.read_csv(r'C:\\Users\\Apollos\\Desktop\\Cleaned Data Loans.csv', header=0, sep=\",\")"
   ]
  },
  {
   "cell_type": "code",
   "execution_count": 3,
   "id": "819b46f8",
   "metadata": {},
   "outputs": [
    {
     "data": {
      "text/html": [
       "<div>\n",
       "<style scoped>\n",
       "    .dataframe tbody tr th:only-of-type {\n",
       "        vertical-align: middle;\n",
       "    }\n",
       "\n",
       "    .dataframe tbody tr th {\n",
       "        vertical-align: top;\n",
       "    }\n",
       "\n",
       "    .dataframe thead th {\n",
       "        text-align: right;\n",
       "    }\n",
       "</style>\n",
       "<table border=\"1\" class=\"dataframe\">\n",
       "  <thead>\n",
       "    <tr style=\"text-align: right;\">\n",
       "      <th></th>\n",
       "      <th>Age</th>\n",
       "      <th>Years at address</th>\n",
       "      <th>Employment status</th>\n",
       "      <th>Country</th>\n",
       "      <th>Current debt</th>\n",
       "      <th>Income</th>\n",
       "      <th>Own home</th>\n",
       "      <th>CCJs</th>\n",
       "      <th>Loan amount</th>\n",
       "      <th>Outcome</th>\n",
       "    </tr>\n",
       "  </thead>\n",
       "  <tbody>\n",
       "    <tr>\n",
       "      <th>0</th>\n",
       "      <td>19</td>\n",
       "      <td>2</td>\n",
       "      <td>Unemployed</td>\n",
       "      <td>UK</td>\n",
       "      <td>0</td>\n",
       "      <td>45500</td>\n",
       "      <td>Rent</td>\n",
       "      <td>1</td>\n",
       "      <td>13234</td>\n",
       "      <td>Paid</td>\n",
       "    </tr>\n",
       "    <tr>\n",
       "      <th>1</th>\n",
       "      <td>66</td>\n",
       "      <td>13</td>\n",
       "      <td>Unemployed</td>\n",
       "      <td>UK</td>\n",
       "      <td>1080</td>\n",
       "      <td>18000</td>\n",
       "      <td>Own</td>\n",
       "      <td>0</td>\n",
       "      <td>5561</td>\n",
       "      <td>Paid</td>\n",
       "    </tr>\n",
       "    <tr>\n",
       "      <th>2</th>\n",
       "      <td>48</td>\n",
       "      <td>4</td>\n",
       "      <td>Self Employed</td>\n",
       "      <td>UK</td>\n",
       "      <td>3690</td>\n",
       "      <td>47500</td>\n",
       "      <td>Rent</td>\n",
       "      <td>1</td>\n",
       "      <td>28288</td>\n",
       "      <td>Paid</td>\n",
       "    </tr>\n",
       "    <tr>\n",
       "      <th>3</th>\n",
       "      <td>67</td>\n",
       "      <td>47</td>\n",
       "      <td>Self Employed</td>\n",
       "      <td>UK</td>\n",
       "      <td>6560</td>\n",
       "      <td>36000</td>\n",
       "      <td>Mortgage</td>\n",
       "      <td>0</td>\n",
       "      <td>30199</td>\n",
       "      <td>Paid</td>\n",
       "    </tr>\n",
       "    <tr>\n",
       "      <th>4</th>\n",
       "      <td>70</td>\n",
       "      <td>8</td>\n",
       "      <td>Self Employed</td>\n",
       "      <td>UK</td>\n",
       "      <td>9100</td>\n",
       "      <td>50500</td>\n",
       "      <td>Own</td>\n",
       "      <td>0</td>\n",
       "      <td>35078</td>\n",
       "      <td>Paid</td>\n",
       "    </tr>\n",
       "    <tr>\n",
       "      <th>...</th>\n",
       "      <td>...</td>\n",
       "      <td>...</td>\n",
       "      <td>...</td>\n",
       "      <td>...</td>\n",
       "      <td>...</td>\n",
       "      <td>...</td>\n",
       "      <td>...</td>\n",
       "      <td>...</td>\n",
       "      <td>...</td>\n",
       "      <td>...</td>\n",
       "    </tr>\n",
       "    <tr>\n",
       "      <th>1993</th>\n",
       "      <td>60</td>\n",
       "      <td>4</td>\n",
       "      <td>Self Employed</td>\n",
       "      <td>UK</td>\n",
       "      <td>2900</td>\n",
       "      <td>22500</td>\n",
       "      <td>Own</td>\n",
       "      <td>1</td>\n",
       "      <td>15725</td>\n",
       "      <td>Paid</td>\n",
       "    </tr>\n",
       "    <tr>\n",
       "      <th>1994</th>\n",
       "      <td>24</td>\n",
       "      <td>7</td>\n",
       "      <td>Self Employed</td>\n",
       "      <td>UK</td>\n",
       "      <td>5130</td>\n",
       "      <td>38000</td>\n",
       "      <td>Own</td>\n",
       "      <td>0</td>\n",
       "      <td>35911</td>\n",
       "      <td>Paid</td>\n",
       "    </tr>\n",
       "    <tr>\n",
       "      <th>1995</th>\n",
       "      <td>34</td>\n",
       "      <td>5</td>\n",
       "      <td>Unemployed</td>\n",
       "      <td>UK</td>\n",
       "      <td>6530</td>\n",
       "      <td>41500</td>\n",
       "      <td>Own</td>\n",
       "      <td>2</td>\n",
       "      <td>6874</td>\n",
       "      <td>Paid</td>\n",
       "    </tr>\n",
       "    <tr>\n",
       "      <th>1996</th>\n",
       "      <td>52</td>\n",
       "      <td>2</td>\n",
       "      <td>Employed</td>\n",
       "      <td>UK</td>\n",
       "      <td>930</td>\n",
       "      <td>32500</td>\n",
       "      <td>Own</td>\n",
       "      <td>0</td>\n",
       "      <td>5412</td>\n",
       "      <td>Paid</td>\n",
       "    </tr>\n",
       "    <tr>\n",
       "      <th>1997</th>\n",
       "      <td>42</td>\n",
       "      <td>3</td>\n",
       "      <td>Self Employed</td>\n",
       "      <td>UK</td>\n",
       "      <td>10</td>\n",
       "      <td>49000</td>\n",
       "      <td>Own</td>\n",
       "      <td>0</td>\n",
       "      <td>3835</td>\n",
       "      <td>Defaulted</td>\n",
       "    </tr>\n",
       "  </tbody>\n",
       "</table>\n",
       "<p>1998 rows × 10 columns</p>\n",
       "</div>"
      ],
      "text/plain": [
       "      Age  Years at address Employment status Country  Current debt  Income  \\\n",
       "0      19                 2        Unemployed      UK             0   45500   \n",
       "1      66                13        Unemployed      UK          1080   18000   \n",
       "2      48                 4     Self Employed      UK          3690   47500   \n",
       "3      67                47     Self Employed      UK          6560   36000   \n",
       "4      70                 8     Self Employed      UK          9100   50500   \n",
       "...   ...               ...               ...     ...           ...     ...   \n",
       "1993   60                 4     Self Employed      UK          2900   22500   \n",
       "1994   24                 7     Self Employed      UK          5130   38000   \n",
       "1995   34                 5        Unemployed      UK          6530   41500   \n",
       "1996   52                 2          Employed      UK           930   32500   \n",
       "1997   42                 3     Self Employed      UK            10   49000   \n",
       "\n",
       "      Own home  CCJs  Loan amount    Outcome  \n",
       "0         Rent     1        13234       Paid  \n",
       "1          Own     0         5561       Paid  \n",
       "2         Rent     1        28288       Paid  \n",
       "3     Mortgage     0        30199       Paid  \n",
       "4          Own     0        35078       Paid  \n",
       "...        ...   ...          ...        ...  \n",
       "1993       Own     1        15725       Paid  \n",
       "1994       Own     0        35911       Paid  \n",
       "1995       Own     2         6874       Paid  \n",
       "1996       Own     0         5412       Paid  \n",
       "1997       Own     0         3835  Defaulted  \n",
       "\n",
       "[1998 rows x 10 columns]"
      ]
     },
     "execution_count": 3,
     "metadata": {},
     "output_type": "execute_result"
    }
   ],
   "source": [
    "df"
   ]
  },
  {
   "cell_type": "code",
   "execution_count": 4,
   "id": "925994ef",
   "metadata": {
    "scrolled": true
   },
   "outputs": [
    {
     "data": {
      "text/plain": [
       "<AxesSubplot:xlabel='Outcome', ylabel='count'>"
      ]
     },
     "execution_count": 4,
     "metadata": {},
     "output_type": "execute_result"
    },
    {
     "data": {
      "image/png": "[encoded data removed]",
      "text/plain": [
       "<Figure size 432x288 with 1 Axes>"
      ]
     },
     "metadata": {
      "needs_background": "light"
     },
     "output_type": "display_data"
    }
   ],
   "source": [
    "sns.countplot(x=\"Outcome\", data=df)"
   ]
  },
  {
   "cell_type": "code",
   "execution_count": 5,
   "id": "67ac688a",
   "metadata": {},
   "outputs": [
    {
     "name": "stdout",
     "output_type": "stream",
     "text": [
      "<class 'pandas.core.frame.DataFrame'>\n",
      "RangeIndex: 1998 entries, 0 to 1997\n",
      "Data columns (total 10 columns):\n",
      " #   Column             Non-Null Count  Dtype \n",
      "---  ------             --------------  ----- \n",
      " 0   Age                1998 non-null   int64 \n",
      " 1   Years at address   1998 non-null   int64 \n",
      " 2   Employment status  1998 non-null   object\n",
      " 3   Country            1998 non-null   object\n",
      " 4   Current debt       1998 non-null   int64 \n",
      " 5   Income             1998 non-null   int64 \n",
      " 6   Own home           1998 non-null   object\n",
      " 7   CCJs               1998 non-null   int64 \n",
      " 8   Loan amount        1998 non-null   int64 \n",
      " 9   Outcome            1998 non-null   object\n",
      "dtypes: int64(6), object(4)\n",
      "memory usage: 156.2+ KB\n"
     ]
    }
   ],
   "source": [
    "df.info()"
   ]
  },
  {
   "cell_type": "code",
   "execution_count": 6,
   "id": "d16de6c9",
   "metadata": {},
   "outputs": [
    {
     "data": {
      "text/html": [
       "<div>\n",
       "<style scoped>\n",
       "    .dataframe tbody tr th:only-of-type {\n",
       "        vertical-align: middle;\n",
       "    }\n",
       "\n",
       "    .dataframe tbody tr th {\n",
       "        vertical-align: top;\n",
       "    }\n",
       "\n",
       "    .dataframe thead th {\n",
       "        text-align: right;\n",
       "    }\n",
       "</style>\n",
       "<table border=\"1\" class=\"dataframe\">\n",
       "  <thead>\n",
       "    <tr style=\"text-align: right;\">\n",
       "      <th></th>\n",
       "      <th>Age</th>\n",
       "      <th>Years at address</th>\n",
       "      <th>Employment status</th>\n",
       "      <th>Country</th>\n",
       "      <th>Current debt</th>\n",
       "      <th>Income</th>\n",
       "      <th>Own home</th>\n",
       "      <th>CCJs</th>\n",
       "      <th>Loan amount</th>\n",
       "      <th>Outcome</th>\n",
       "    </tr>\n",
       "  </thead>\n",
       "  <tbody>\n",
       "    <tr>\n",
       "      <th>0</th>\n",
       "      <td>False</td>\n",
       "      <td>False</td>\n",
       "      <td>False</td>\n",
       "      <td>False</td>\n",
       "      <td>False</td>\n",
       "      <td>False</td>\n",
       "      <td>False</td>\n",
       "      <td>False</td>\n",
       "      <td>False</td>\n",
       "      <td>False</td>\n",
       "    </tr>\n",
       "    <tr>\n",
       "      <th>1</th>\n",
       "      <td>False</td>\n",
       "      <td>False</td>\n",
       "      <td>False</td>\n",
       "      <td>False</td>\n",
       "      <td>False</td>\n",
       "      <td>False</td>\n",
       "      <td>False</td>\n",
       "      <td>False</td>\n",
       "      <td>False</td>\n",
       "      <td>False</td>\n",
       "    </tr>\n",
       "    <tr>\n",
       "      <th>2</th>\n",
       "      <td>False</td>\n",
       "      <td>False</td>\n",
       "      <td>False</td>\n",
       "      <td>False</td>\n",
       "      <td>False</td>\n",
       "      <td>False</td>\n",
       "      <td>False</td>\n",
       "      <td>False</td>\n",
       "      <td>False</td>\n",
       "      <td>False</td>\n",
       "    </tr>\n",
       "    <tr>\n",
       "      <th>3</th>\n",
       "      <td>False</td>\n",
       "      <td>False</td>\n",
       "      <td>False</td>\n",
       "      <td>False</td>\n",
       "      <td>False</td>\n",
       "      <td>False</td>\n",
       "      <td>False</td>\n",
       "      <td>False</td>\n",
       "      <td>False</td>\n",
       "      <td>False</td>\n",
       "    </tr>\n",
       "    <tr>\n",
       "      <th>4</th>\n",
       "      <td>False</td>\n",
       "      <td>False</td>\n",
       "      <td>False</td>\n",
       "      <td>False</td>\n",
       "      <td>False</td>\n",
       "      <td>False</td>\n",
       "      <td>False</td>\n",
       "      <td>False</td>\n",
       "      <td>False</td>\n",
       "      <td>False</td>\n",
       "    </tr>\n",
       "    <tr>\n",
       "      <th>...</th>\n",
       "      <td>...</td>\n",
       "      <td>...</td>\n",
       "      <td>...</td>\n",
       "      <td>...</td>\n",
       "      <td>...</td>\n",
       "      <td>...</td>\n",
       "      <td>...</td>\n",
       "      <td>...</td>\n",
       "      <td>...</td>\n",
       "      <td>...</td>\n",
       "    </tr>\n",
       "    <tr>\n",
       "      <th>1993</th>\n",
       "      <td>False</td>\n",
       "      <td>False</td>\n",
       "      <td>False</td>\n",
       "      <td>False</td>\n",
       "      <td>False</td>\n",
       "      <td>False</td>\n",
       "      <td>False</td>\n",
       "      <td>False</td>\n",
       "      <td>False</td>\n",
       "      <td>False</td>\n",
       "    </tr>\n",
       "    <tr>\n",
       "      <th>1994</th>\n",
       "      <td>False</td>\n",
       "      <td>False</td>\n",
       "      <td>False</td>\n",
       "      <td>False</td>\n",
       "      <td>False</td>\n",
       "      <td>False</td>\n",
       "      <td>False</td>\n",
       "      <td>False</td>\n",
       "      <td>False</td>\n",
       "      <td>False</td>\n",
       "    </tr>\n",
       "    <tr>\n",
       "      <th>1995</th>\n",
       "      <td>False</td>\n",
       "      <td>False</td>\n",
       "      <td>False</td>\n",
       "      <td>False</td>\n",
       "      <td>False</td>\n",
       "      <td>False</td>\n",
       "      <td>False</td>\n",
       "      <td>False</td>\n",
       "      <td>False</td>\n",
       "      <td>False</td>\n",
       "    </tr>\n",
       "    <tr>\n",
       "      <th>1996</th>\n",
       "      <td>False</td>\n",
       "      <td>False</td>\n",
       "      <td>False</td>\n",
       "      <td>False</td>\n",
       "      <td>False</td>\n",
       "      <td>False</td>\n",
       "      <td>False</td>\n",
       "      <td>False</td>\n",
       "      <td>False</td>\n",
       "      <td>False</td>\n",
       "    </tr>\n",
       "    <tr>\n",
       "      <th>1997</th>\n",
       "      <td>False</td>\n",
       "      <td>False</td>\n",
       "      <td>False</td>\n",
       "      <td>False</td>\n",
       "      <td>False</td>\n",
       "      <td>False</td>\n",
       "      <td>False</td>\n",
       "      <td>False</td>\n",
       "      <td>False</td>\n",
       "      <td>False</td>\n",
       "    </tr>\n",
       "  </tbody>\n",
       "</table>\n",
       "<p>1998 rows × 10 columns</p>\n",
       "</div>"
      ],
      "text/plain": [
       "        Age  Years at address  Employment status  Country  Current debt  \\\n",
       "0     False             False              False    False         False   \n",
       "1     False             False              False    False         False   \n",
       "2     False             False              False    False         False   \n",
       "3     False             False              False    False         False   \n",
       "4     False             False              False    False         False   \n",
       "...     ...               ...                ...      ...           ...   \n",
       "1993  False             False              False    False         False   \n",
       "1994  False             False              False    False         False   \n",
       "1995  False             False              False    False         False   \n",
       "1996  False             False              False    False         False   \n",
       "1997  False             False              False    False         False   \n",
       "\n",
       "      Income  Own home   CCJs  Loan amount  Outcome  \n",
       "0      False     False  False        False    False  \n",
       "1      False     False  False        False    False  \n",
       "2      False     False  False        False    False  \n",
       "3      False     False  False        False    False  \n",
       "4      False     False  False        False    False  \n",
       "...      ...       ...    ...          ...      ...  \n",
       "1993   False     False  False        False    False  \n",
       "1994   False     False  False        False    False  \n",
       "1995   False     False  False        False    False  \n",
       "1996   False     False  False        False    False  \n",
       "1997   False     False  False        False    False  \n",
       "\n",
       "[1998 rows x 10 columns]"
      ]
     },
     "execution_count": 6,
     "metadata": {},
     "output_type": "execute_result"
    }
   ],
   "source": [
    "df.isnull()\n"
   ]
  },
  {
   "cell_type": "code",
   "execution_count": 7,
   "id": "7cf96121",
   "metadata": {},
   "outputs": [
    {
     "data": {
      "text/plain": [
       "Age                  0\n",
       "Years at address     0\n",
       "Employment status    0\n",
       "Country              0\n",
       "Current debt         0\n",
       "Income               0\n",
       "Own home             0\n",
       "CCJs                 0\n",
       "Loan amount          0\n",
       "Outcome              0\n",
       "dtype: int64"
      ]
     },
     "execution_count": 7,
     "metadata": {},
     "output_type": "execute_result"
    }
   ],
   "source": [
    "df.isnull().sum()\n"
   ]
  },
  {
   "cell_type": "code",
   "execution_count": 95,
   "id": "12d0aafe",
   "metadata": {},
   "outputs": [
    {
     "data": {
      "text/html": [
       "<div>\n",
       "<style scoped>\n",
       "    .dataframe tbody tr th:only-of-type {\n",
       "        vertical-align: middle;\n",
       "    }\n",
       "\n",
       "    .dataframe tbody tr th {\n",
       "        vertical-align: top;\n",
       "    }\n",
       "\n",
       "    .dataframe thead th {\n",
       "        text-align: right;\n",
       "    }\n",
       "</style>\n",
       "<table border=\"1\" class=\"dataframe\">\n",
       "  <thead>\n",
       "    <tr style=\"text-align: right;\">\n",
       "      <th></th>\n",
       "      <th>Own</th>\n",
       "      <th>Rent</th>\n",
       "    </tr>\n",
       "  </thead>\n",
       "  <tbody>\n",
       "    <tr>\n",
       "      <th>0</th>\n",
       "      <td>0</td>\n",
       "      <td>1</td>\n",
       "    </tr>\n",
       "    <tr>\n",
       "      <th>1</th>\n",
       "      <td>1</td>\n",
       "      <td>0</td>\n",
       "    </tr>\n",
       "    <tr>\n",
       "      <th>2</th>\n",
       "      <td>0</td>\n",
       "      <td>1</td>\n",
       "    </tr>\n",
       "    <tr>\n",
       "      <th>3</th>\n",
       "      <td>0</td>\n",
       "      <td>0</td>\n",
       "    </tr>\n",
       "    <tr>\n",
       "      <th>4</th>\n",
       "      <td>1</td>\n",
       "      <td>0</td>\n",
       "    </tr>\n",
       "  </tbody>\n",
       "</table>\n",
       "</div>"
      ],
      "text/plain": [
       "   Own  Rent\n",
       "0    0     1\n",
       "1    1     0\n",
       "2    0     1\n",
       "3    0     0\n",
       "4    1     0"
      ]
     },
     "execution_count": 95,
     "metadata": {},
     "output_type": "execute_result"
    }
   ],
   "source": [
    "home = pd.get_dummies(df['Own home'], drop_first=True)\n",
    "home.head(5)"
   ]
  },
  {
   "cell_type": "code",
   "execution_count": 96,
   "id": "aa440194",
   "metadata": {},
   "outputs": [
    {
     "data": {
      "text/html": [
       "<div>\n",
       "<style scoped>\n",
       "    .dataframe tbody tr th:only-of-type {\n",
       "        vertical-align: middle;\n",
       "    }\n",
       "\n",
       "    .dataframe tbody tr th {\n",
       "        vertical-align: top;\n",
       "    }\n",
       "\n",
       "    .dataframe thead th {\n",
       "        text-align: right;\n",
       "    }\n",
       "</style>\n",
       "<table border=\"1\" class=\"dataframe\">\n",
       "  <thead>\n",
       "    <tr style=\"text-align: right;\">\n",
       "      <th></th>\n",
       "      <th>Retired</th>\n",
       "      <th>Self Employed</th>\n",
       "      <th>Unemployed</th>\n",
       "    </tr>\n",
       "  </thead>\n",
       "  <tbody>\n",
       "    <tr>\n",
       "      <th>0</th>\n",
       "      <td>0</td>\n",
       "      <td>0</td>\n",
       "      <td>1</td>\n",
       "    </tr>\n",
       "    <tr>\n",
       "      <th>1</th>\n",
       "      <td>0</td>\n",
       "      <td>0</td>\n",
       "      <td>1</td>\n",
       "    </tr>\n",
       "    <tr>\n",
       "      <th>2</th>\n",
       "      <td>0</td>\n",
       "      <td>1</td>\n",
       "      <td>0</td>\n",
       "    </tr>\n",
       "    <tr>\n",
       "      <th>3</th>\n",
       "      <td>0</td>\n",
       "      <td>1</td>\n",
       "      <td>0</td>\n",
       "    </tr>\n",
       "    <tr>\n",
       "      <th>4</th>\n",
       "      <td>0</td>\n",
       "      <td>1</td>\n",
       "      <td>0</td>\n",
       "    </tr>\n",
       "  </tbody>\n",
       "</table>\n",
       "</div>"
      ],
      "text/plain": [
       "   Retired  Self Employed  Unemployed\n",
       "0        0              0           1\n",
       "1        0              0           1\n",
       "2        0              1           0\n",
       "3        0              1           0\n",
       "4        0              1           0"
      ]
     },
     "execution_count": 96,
     "metadata": {},
     "output_type": "execute_result"
    }
   ],
   "source": [
    "employment = pd.get_dummies(df['Employment status'], drop_first=True)\n",
    "employment.head(5)"
   ]
  },
  {
   "cell_type": "code",
   "execution_count": 97,
   "id": "4aff903d",
   "metadata": {},
   "outputs": [
    {
     "data": {
      "text/html": [
       "<div>\n",
       "<style scoped>\n",
       "    .dataframe tbody tr th:only-of-type {\n",
       "        vertical-align: middle;\n",
       "    }\n",
       "\n",
       "    .dataframe tbody tr th {\n",
       "        vertical-align: top;\n",
       "    }\n",
       "\n",
       "    .dataframe thead th {\n",
       "        text-align: right;\n",
       "    }\n",
       "</style>\n",
       "<table border=\"1\" class=\"dataframe\">\n",
       "  <thead>\n",
       "    <tr style=\"text-align: right;\">\n",
       "      <th></th>\n",
       "      <th>France</th>\n",
       "      <th>Germany</th>\n",
       "      <th>Spain</th>\n",
       "      <th>UK</th>\n",
       "    </tr>\n",
       "  </thead>\n",
       "  <tbody>\n",
       "    <tr>\n",
       "      <th>0</th>\n",
       "      <td>0</td>\n",
       "      <td>0</td>\n",
       "      <td>0</td>\n",
       "      <td>1</td>\n",
       "    </tr>\n",
       "    <tr>\n",
       "      <th>1</th>\n",
       "      <td>0</td>\n",
       "      <td>0</td>\n",
       "      <td>0</td>\n",
       "      <td>1</td>\n",
       "    </tr>\n",
       "    <tr>\n",
       "      <th>2</th>\n",
       "      <td>0</td>\n",
       "      <td>0</td>\n",
       "      <td>0</td>\n",
       "      <td>1</td>\n",
       "    </tr>\n",
       "    <tr>\n",
       "      <th>3</th>\n",
       "      <td>0</td>\n",
       "      <td>0</td>\n",
       "      <td>0</td>\n",
       "      <td>1</td>\n",
       "    </tr>\n",
       "    <tr>\n",
       "      <th>4</th>\n",
       "      <td>0</td>\n",
       "      <td>0</td>\n",
       "      <td>0</td>\n",
       "      <td>1</td>\n",
       "    </tr>\n",
       "  </tbody>\n",
       "</table>\n",
       "</div>"
      ],
      "text/plain": [
       "   France  Germany  Spain  UK\n",
       "0       0        0      0   1\n",
       "1       0        0      0   1\n",
       "2       0        0      0   1\n",
       "3       0        0      0   1\n",
       "4       0        0      0   1"
      ]
     },
     "execution_count": 97,
     "metadata": {},
     "output_type": "execute_result"
    }
   ],
   "source": [
    "\n",
    " county = pd.get_dummies(df['Country'])\n",
    " county.head(5)   "
   ]
  },
  {
   "cell_type": "code",
   "execution_count": 98,
   "id": "68be8b8e",
   "metadata": {},
   "outputs": [],
   "source": [
    "Loans = pd.concat([df, home, employment, county], axis= 1)"
   ]
  },
  {
   "cell_type": "code",
   "execution_count": 99,
   "id": "7495af9f",
   "metadata": {},
   "outputs": [
    {
     "data": {
      "text/html": [
       "<div>\n",
       "<style scoped>\n",
       "    .dataframe tbody tr th:only-of-type {\n",
       "        vertical-align: middle;\n",
       "    }\n",
       "\n",
       "    .dataframe tbody tr th {\n",
       "        vertical-align: top;\n",
       "    }\n",
       "\n",
       "    .dataframe thead th {\n",
       "        text-align: right;\n",
       "    }\n",
       "</style>\n",
       "<table border=\"1\" class=\"dataframe\">\n",
       "  <thead>\n",
       "    <tr style=\"text-align: right;\">\n",
       "      <th></th>\n",
       "      <th>Age</th>\n",
       "      <th>Years at address</th>\n",
       "      <th>Employment status</th>\n",
       "      <th>Country</th>\n",
       "      <th>Current debt</th>\n",
       "      <th>Income</th>\n",
       "      <th>Own home</th>\n",
       "      <th>CCJs</th>\n",
       "      <th>Loan amount</th>\n",
       "      <th>Outcome</th>\n",
       "      <th>Own</th>\n",
       "      <th>Rent</th>\n",
       "      <th>Retired</th>\n",
       "      <th>Self Employed</th>\n",
       "      <th>Unemployed</th>\n",
       "      <th>France</th>\n",
       "      <th>Germany</th>\n",
       "      <th>Spain</th>\n",
       "      <th>UK</th>\n",
       "    </tr>\n",
       "  </thead>\n",
       "  <tbody>\n",
       "    <tr>\n",
       "      <th>0</th>\n",
       "      <td>19</td>\n",
       "      <td>2</td>\n",
       "      <td>Unemployed</td>\n",
       "      <td>UK</td>\n",
       "      <td>0</td>\n",
       "      <td>45500</td>\n",
       "      <td>Rent</td>\n",
       "      <td>1</td>\n",
       "      <td>13234</td>\n",
       "      <td>Paid</td>\n",
       "      <td>0</td>\n",
       "      <td>1</td>\n",
       "      <td>0</td>\n",
       "      <td>0</td>\n",
       "      <td>1</td>\n",
       "      <td>0</td>\n",
       "      <td>0</td>\n",
       "      <td>0</td>\n",
       "      <td>1</td>\n",
       "    </tr>\n",
       "    <tr>\n",
       "      <th>1</th>\n",
       "      <td>66</td>\n",
       "      <td>13</td>\n",
       "      <td>Unemployed</td>\n",
       "      <td>UK</td>\n",
       "      <td>1080</td>\n",
       "      <td>18000</td>\n",
       "      <td>Own</td>\n",
       "      <td>0</td>\n",
       "      <td>5561</td>\n",
       "      <td>Paid</td>\n",
       "      <td>1</td>\n",
       "      <td>0</td>\n",
       "      <td>0</td>\n",
       "      <td>0</td>\n",
       "      <td>1</td>\n",
       "      <td>0</td>\n",
       "      <td>0</td>\n",
       "      <td>0</td>\n",
       "      <td>1</td>\n",
       "    </tr>\n",
       "    <tr>\n",
       "      <th>2</th>\n",
       "      <td>48</td>\n",
       "      <td>4</td>\n",
       "      <td>Self Employed</td>\n",
       "      <td>UK</td>\n",
       "      <td>3690</td>\n",
       "      <td>47500</td>\n",
       "      <td>Rent</td>\n",
       "      <td>1</td>\n",
       "      <td>28288</td>\n",
       "      <td>Paid</td>\n",
       "      <td>0</td>\n",
       "      <td>1</td>\n",
       "      <td>0</td>\n",
       "      <td>1</td>\n",
       "      <td>0</td>\n",
       "      <td>0</td>\n",
       "      <td>0</td>\n",
       "      <td>0</td>\n",
       "      <td>1</td>\n",
       "    </tr>\n",
       "    <tr>\n",
       "      <th>3</th>\n",
       "      <td>67</td>\n",
       "      <td>47</td>\n",
       "      <td>Self Employed</td>\n",
       "      <td>UK</td>\n",
       "      <td>6560</td>\n",
       "      <td>36000</td>\n",
       "      <td>Mortgage</td>\n",
       "      <td>0</td>\n",
       "      <td>30199</td>\n",
       "      <td>Paid</td>\n",
       "      <td>0</td>\n",
       "      <td>0</td>\n",
       "      <td>0</td>\n",
       "      <td>1</td>\n",
       "      <td>0</td>\n",
       "      <td>0</td>\n",
       "      <td>0</td>\n",
       "      <td>0</td>\n",
       "      <td>1</td>\n",
       "    </tr>\n",
       "    <tr>\n",
       "      <th>4</th>\n",
       "      <td>70</td>\n",
       "      <td>8</td>\n",
       "      <td>Self Employed</td>\n",
       "      <td>UK</td>\n",
       "      <td>9100</td>\n",
       "      <td>50500</td>\n",
       "      <td>Own</td>\n",
       "      <td>0</td>\n",
       "      <td>35078</td>\n",
       "      <td>Paid</td>\n",
       "      <td>1</td>\n",
       "      <td>0</td>\n",
       "      <td>0</td>\n",
       "      <td>1</td>\n",
       "      <td>0</td>\n",
       "      <td>0</td>\n",
       "      <td>0</td>\n",
       "      <td>0</td>\n",
       "      <td>1</td>\n",
       "    </tr>\n",
       "  </tbody>\n",
       "</table>\n",
       "</div>"
      ],
      "text/plain": [
       "   Age  Years at address Employment status Country  Current debt  Income  \\\n",
       "0   19                 2        Unemployed      UK             0   45500   \n",
       "1   66                13        Unemployed      UK          1080   18000   \n",
       "2   48                 4     Self Employed      UK          3690   47500   \n",
       "3   67                47     Self Employed      UK          6560   36000   \n",
       "4   70                 8     Self Employed      UK          9100   50500   \n",
       "\n",
       "   Own home  CCJs  Loan amount Outcome  Own  Rent  Retired  Self Employed  \\\n",
       "0      Rent     1        13234    Paid    0     1        0              0   \n",
       "1       Own     0         5561    Paid    1     0        0              0   \n",
       "2      Rent     1        28288    Paid    0     1        0              1   \n",
       "3  Mortgage     0        30199    Paid    0     0        0              1   \n",
       "4       Own     0        35078    Paid    1     0        0              1   \n",
       "\n",
       "   Unemployed  France  Germany  Spain  UK  \n",
       "0           1       0        0      0   1  \n",
       "1           1       0        0      0   1  \n",
       "2           0       0        0      0   1  \n",
       "3           0       0        0      0   1  \n",
       "4           0       0        0      0   1  "
      ]
     },
     "execution_count": 99,
     "metadata": {},
     "output_type": "execute_result"
    }
   ],
   "source": [
    "Loans.head(5)"
   ]
  },
  {
   "cell_type": "code",
   "execution_count": 100,
   "id": "eece3381",
   "metadata": {},
   "outputs": [],
   "source": [
    "Loans.drop(['Employment status', 'Country', 'Own home'], axis=1, inplace=True)"
   ]
  },
  {
   "cell_type": "code",
   "execution_count": 101,
   "id": "cb947078",
   "metadata": {},
   "outputs": [
    {
     "data": {
      "text/html": [
       "<div>\n",
       "<style scoped>\n",
       "    .dataframe tbody tr th:only-of-type {\n",
       "        vertical-align: middle;\n",
       "    }\n",
       "\n",
       "    .dataframe tbody tr th {\n",
       "        vertical-align: top;\n",
       "    }\n",
       "\n",
       "    .dataframe thead th {\n",
       "        text-align: right;\n",
       "    }\n",
       "</style>\n",
       "<table border=\"1\" class=\"dataframe\">\n",
       "  <thead>\n",
       "    <tr style=\"text-align: right;\">\n",
       "      <th></th>\n",
       "      <th>Age</th>\n",
       "      <th>Years at address</th>\n",
       "      <th>Current debt</th>\n",
       "      <th>Income</th>\n",
       "      <th>CCJs</th>\n",
       "      <th>Loan amount</th>\n",
       "      <th>Outcome</th>\n",
       "      <th>Own</th>\n",
       "      <th>Rent</th>\n",
       "      <th>Retired</th>\n",
       "      <th>Self Employed</th>\n",
       "      <th>Unemployed</th>\n",
       "      <th>France</th>\n",
       "      <th>Germany</th>\n",
       "      <th>Spain</th>\n",
       "      <th>UK</th>\n",
       "    </tr>\n",
       "  </thead>\n",
       "  <tbody>\n",
       "    <tr>\n",
       "      <th>0</th>\n",
       "      <td>19</td>\n",
       "      <td>2</td>\n",
       "      <td>0</td>\n",
       "      <td>45500</td>\n",
       "      <td>1</td>\n",
       "      <td>13234</td>\n",
       "      <td>Paid</td>\n",
       "      <td>0</td>\n",
       "      <td>1</td>\n",
       "      <td>0</td>\n",
       "      <td>0</td>\n",
       "      <td>1</td>\n",
       "      <td>0</td>\n",
       "      <td>0</td>\n",
       "      <td>0</td>\n",
       "      <td>1</td>\n",
       "    </tr>\n",
       "    <tr>\n",
       "      <th>1</th>\n",
       "      <td>66</td>\n",
       "      <td>13</td>\n",
       "      <td>1080</td>\n",
       "      <td>18000</td>\n",
       "      <td>0</td>\n",
       "      <td>5561</td>\n",
       "      <td>Paid</td>\n",
       "      <td>1</td>\n",
       "      <td>0</td>\n",
       "      <td>0</td>\n",
       "      <td>0</td>\n",
       "      <td>1</td>\n",
       "      <td>0</td>\n",
       "      <td>0</td>\n",
       "      <td>0</td>\n",
       "      <td>1</td>\n",
       "    </tr>\n",
       "    <tr>\n",
       "      <th>2</th>\n",
       "      <td>48</td>\n",
       "      <td>4</td>\n",
       "      <td>3690</td>\n",
       "      <td>47500</td>\n",
       "      <td>1</td>\n",
       "      <td>28288</td>\n",
       "      <td>Paid</td>\n",
       "      <td>0</td>\n",
       "      <td>1</td>\n",
       "      <td>0</td>\n",
       "      <td>1</td>\n",
       "      <td>0</td>\n",
       "      <td>0</td>\n",
       "      <td>0</td>\n",
       "      <td>0</td>\n",
       "      <td>1</td>\n",
       "    </tr>\n",
       "    <tr>\n",
       "      <th>3</th>\n",
       "      <td>67</td>\n",
       "      <td>47</td>\n",
       "      <td>6560</td>\n",
       "      <td>36000</td>\n",
       "      <td>0</td>\n",
       "      <td>30199</td>\n",
       "      <td>Paid</td>\n",
       "      <td>0</td>\n",
       "      <td>0</td>\n",
       "      <td>0</td>\n",
       "      <td>1</td>\n",
       "      <td>0</td>\n",
       "      <td>0</td>\n",
       "      <td>0</td>\n",
       "      <td>0</td>\n",
       "      <td>1</td>\n",
       "    </tr>\n",
       "    <tr>\n",
       "      <th>4</th>\n",
       "      <td>70</td>\n",
       "      <td>8</td>\n",
       "      <td>9100</td>\n",
       "      <td>50500</td>\n",
       "      <td>0</td>\n",
       "      <td>35078</td>\n",
       "      <td>Paid</td>\n",
       "      <td>1</td>\n",
       "      <td>0</td>\n",
       "      <td>0</td>\n",
       "      <td>1</td>\n",
       "      <td>0</td>\n",
       "      <td>0</td>\n",
       "      <td>0</td>\n",
       "      <td>0</td>\n",
       "      <td>1</td>\n",
       "    </tr>\n",
       "  </tbody>\n",
       "</table>\n",
       "</div>"
      ],
      "text/plain": [
       "   Age  Years at address  Current debt  Income  CCJs  Loan amount Outcome  \\\n",
       "0   19                 2             0   45500     1        13234    Paid   \n",
       "1   66                13          1080   18000     0         5561    Paid   \n",
       "2   48                 4          3690   47500     1        28288    Paid   \n",
       "3   67                47          6560   36000     0        30199    Paid   \n",
       "4   70                 8          9100   50500     0        35078    Paid   \n",
       "\n",
       "   Own  Rent  Retired  Self Employed  Unemployed  France  Germany  Spain  UK  \n",
       "0    0     1        0              0           1       0        0      0   1  \n",
       "1    1     0        0              0           1       0        0      0   1  \n",
       "2    0     1        0              1           0       0        0      0   1  \n",
       "3    0     0        0              1           0       0        0      0   1  \n",
       "4    1     0        0              1           0       0        0      0   1  "
      ]
     },
     "execution_count": 101,
     "metadata": {},
     "output_type": "execute_result"
    }
   ],
   "source": [
    "Loans.head(5)"
   ]
  },
  {
   "cell_type": "markdown",
   "id": "ba679664",
   "metadata": {},
   "source": [
    "Train Data\n"
   ]
  },
  {
   "cell_type": "code",
   "execution_count": 102,
   "id": "e0dd9c03",
   "metadata": {},
   "outputs": [],
   "source": [
    "X= Loans.drop(\"Outcome\", axis=1)\n",
    "y= Loans[\"Outcome\"]"
   ]
  },
  {
   "cell_type": "code",
   "execution_count": 103,
   "id": "0bd523bf",
   "metadata": {},
   "outputs": [],
   "source": [
    "from sklearn.model_selection import train_test_split"
   ]
  },
  {
   "cell_type": "code",
   "execution_count": 104,
   "id": "60b8e9a0",
   "metadata": {},
   "outputs": [],
   "source": [
    "X_train, X_test, y_train, y_test = train_test_split( X, y, test_size=0.2)"
   ]
  },
  {
   "cell_type": "code",
   "execution_count": 105,
   "id": "0457a25f",
   "metadata": {},
   "outputs": [],
   "source": [
    "from sklearn.linear_model import LogisticRegression\n",
    "from sklearn.tree import DecisionTreeClassifier"
   ]
  },
  {
   "cell_type": "markdown",
   "id": "275e27e7",
   "metadata": {},
   "source": [
    "# Logistic Regression\n",
    "\n"
   ]
  },
  {
   "cell_type": "code",
   "execution_count": 106,
   "id": "3ea03a39",
   "metadata": {},
   "outputs": [
    {
     "data": {
      "text/plain": [
       "array([[113,  68],\n",
       "       [ 53, 166]], dtype=int64)"
      ]
     },
     "execution_count": 106,
     "metadata": {},
     "output_type": "execute_result"
    }
   ],
   "source": [
    "from sklearn.metrics import accuracy_score, confusion_matrix\n",
    "\n",
    "    \n",
    "model = LogisticRegression(solver='lbfgs', max_iter=1000)\n",
    "model.fit(X_train, y_train)\n",
    "predictions = model.predict(X_test)\n",
    "\n",
    "\n",
    "confusion_matrix(y_test, predictions)\n"
   ]
  },
  {
   "cell_type": "code",
   "execution_count": 111,
   "id": "ea31356a",
   "metadata": {},
   "outputs": [
    {
     "data": {
      "text/plain": [
       "0.6975"
      ]
     },
     "execution_count": 111,
     "metadata": {},
     "output_type": "execute_result"
    }
   ],
   "source": [
    "accuracy_score(y_test, predictions)"
   ]
  },
  {
   "cell_type": "markdown",
   "id": "e05384b2",
   "metadata": {},
   "source": [
    "# Decision Tree"
   ]
  },
  {
   "cell_type": "code",
   "execution_count": 107,
   "id": "0cb2cc1f",
   "metadata": {},
   "outputs": [
    {
     "data": {
      "text/plain": [
       "array([[124,  57],\n",
       "       [ 67, 152]], dtype=int64)"
      ]
     },
     "execution_count": 107,
     "metadata": {},
     "output_type": "execute_result"
    }
   ],
   "source": [
    "Treemodel = DecisionTreeClassifier()\n",
    "Treemodel.fit(X_train, y_train)\n",
    "Tree_predictions = Treemodel.predict(X_test)\n",
    "\n",
    "confusion_matrix(y_test, Tree_predictions)"
   ]
  },
  {
   "cell_type": "code",
   "execution_count": 108,
   "id": "559aec15",
   "metadata": {},
   "outputs": [
    {
     "data": {
      "text/plain": [
       "0.69"
      ]
     },
     "execution_count": 108,
     "metadata": {},
     "output_type": "execute_result"
    }
   ],
   "source": [
    "accuracy_score(y_test, Tree_predictions)"
   ]
  },
  {
   "cell_type": "markdown",
   "id": "0d34bb69",
   "metadata": {},
   "source": [
    "\n",
    "# Random Forest"
   ]
  },
  {
   "cell_type": "code",
   "execution_count": 109,
   "id": "c16bd8ec",
   "metadata": {
    "scrolled": true
   },
   "outputs": [
    {
     "data": {
      "text/plain": [
       "array([[123,  58],\n",
       "       [ 37, 182]], dtype=int64)"
      ]
     },
     "execution_count": 109,
     "metadata": {},
     "output_type": "execute_result"
    }
   ],
   "source": [
    "from sklearn import ensemble\n",
    "rf = ensemble.RandomForestClassifier(n_estimators=100)\n",
    "rf.fit(X_train, y_train)\n",
    "rf_predictions = rf.predict(X_test)\n",
    "\n",
    "# rf.score(X_test,y_test)\n",
    "confusion_matrix(y_test, rf_predictions)"
   ]
  },
  {
   "cell_type": "markdown",
   "id": "414d34e9",
   "metadata": {},
   "source": []
  },
  {
   "cell_type": "code",
   "execution_count": 110,
   "id": "7a4db254",
   "metadata": {},
   "outputs": [
    {
     "data": {
      "text/plain": [
       "0.7625"
      ]
     },
     "execution_count": 110,
     "metadata": {},
     "output_type": "execute_result"
    }
   ],
   "source": [
    "accuracy_score(y_test, rf_predictions)"
   ]
  },
  {
   "cell_type": "code",
   "execution_count": null,
   "id": "db36ce0c",
   "metadata": {},
   "outputs": [],
   "source": [
    "\n"
   ]
  },
  {
   "cell_type": "markdown",
   "id": "e50746b4",
   "metadata": {},
   "source": [
    "# ROC Curve"
   ]
  },
  {
   "cell_type": "code",
   "execution_count": 112,
   "id": "6b7675ae",
   "metadata": {},
   "outputs": [],
   "source": [
    "r_probs = [0 for _ in range(len(y_test))]\n",
    "rf_probs = rf.predict_proba(X_test)\n",
    "Treemodel_probs = Treemodel.predict_proba(X_test)\n",
    "model_probs = model.predict_proba(X_test)"
   ]
  },
  {
   "cell_type": "code",
   "execution_count": 113,
   "id": "a46ddd5d",
   "metadata": {},
   "outputs": [],
   "source": [
    "rf_probs = rf_probs[:, 1]\n",
    "Treemodel_probs = Treemodel_probs[:, 1]\n",
    "model_probs = model_probs[:, 1]"
   ]
  },
  {
   "cell_type": "code",
   "execution_count": 114,
   "id": "ce16e421",
   "metadata": {},
   "outputs": [],
   "source": [
    "from sklearn.metrics import roc_curve, roc_auc_score"
   ]
  },
  {
   "cell_type": "code",
   "execution_count": 115,
   "id": "03fb3b92",
   "metadata": {},
   "outputs": [],
   "source": [
    "r_auc = roc_auc_score(y_test, r_probs)\n",
    "rf_auc = roc_auc_score(y_test, rf_probs)\n",
    "Treemodel_auc = roc_auc_score(y_test, Treemodel_probs)\n",
    "model_probs_auc = roc_auc_score(y_test, model_probs)"
   ]
  },
  {
   "cell_type": "code",
   "execution_count": 118,
   "id": "08c3c541",
   "metadata": {},
   "outputs": [],
   "source": [
    "r_fpr, r_tpr,_ = roc_curve(y_test, r_probs, pos_label=\"Paid\")\n",
    "rf_fpr, rf_tpr, _ = roc_curve(y_test, rf_probs,pos_label=\"Paid\")\n",
    "Treemodel_fpr, Treemodel_tpr,_= roc_curve(y_test, Treemodel_probs,pos_label=\"Paid\")\n",
    "model_probs_fpr, model_probs_tpr, _= roc_curve(y_test, model_probs,pos_label=\"Paid\")"
   ]
  },
  {
   "cell_type": "code",
   "execution_count": 120,
   "id": "a171fe14",
   "metadata": {},
   "outputs": [],
   "source": [
    "import matplotlib.pyplot as plt\n"
   ]
  },
  {
   "cell_type": "code",
   "execution_count": 127,
   "id": "dd83ca95",
   "metadata": {},
   "outputs": [
    {
     "data": {
      "image/png": "[encoded data removed]",
      "text/plain": [
       "<Figure size 432x288 with 1 Axes>"
      ]
     },
     "metadata": {
      "needs_background": "light"
     },
     "output_type": "display_data"
    }
   ],
   "source": [
    "plt.plot(r_fpr, r_tpr, linestyle='--', label='Random Prediction (AUROC = %0.3f)' % r_auc)\n",
    "plt.plot(rf_fpr, rf_tpr, marker='.', label='Random Forest(AUROC = %0.3f)' % rf_auc)\n",
    "plt.plot(Treemodel_fpr, Treemodel_tpr, marker='8',label='Decision Tree (AUROC = %0.3f)' % Treemodel_auc)\n",
    "plt.plot(model_probs_fpr, model_probs_tpr, marker=',', label='Logistic Regression(AUROC = %0.3f)' % model_probs_auc)\n",
    "\n",
    "\n",
    "\n",
    "\n",
    "plt.title('ROC Plot')\n",
    "plt.xlabel('false Positive Rate')\n",
    "plt.ylabel('True Positive Rate')\n",
    "plt.legend()\n",
    "plt.show()"
   ]
  },
  {
   "cell_type": "code",
   "execution_count": null,
   "id": "20aa8167",
   "metadata": {},
   "outputs": [],
   "source": []
  }
 ],
 "metadata": {
  "kernelspec": {
   "display_name": "Python 3 (ipykernel)",
   "language": "python",
   "name": "python3"
  },
  "language_info": {
   "codemirror_mode": {
    "name": "ipython",
    "version": 3
   },
   "file_extension": ".py",
   "mimetype": "text/x-python",
   "name": "python",
   "nbconvert_exporter": "python",
   "pygments_lexer": "ipython3",
   "version": "3.7.0"
  }
 },
 "nbformat": 4,
 "nbformat_minor": 5
}
